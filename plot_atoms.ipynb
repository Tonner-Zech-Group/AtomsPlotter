{
 "cells": [
  {
   "cell_type": "markdown",
   "id": "1dde0a63-18b6-483d-8033-209c30b9b192",
   "metadata": {},
   "source": [
    "## MWE"
   ]
  },
  {
   "cell_type": "code",
   "execution_count": null,
   "id": "2c878c17-9861-42c7-b25c-4f61ff3612bb",
   "metadata": {},
   "outputs": [],
   "source": [
    "import ase\n",
    "import ase.io\n",
    "import matplotlib.pyplot\n",
    "%matplotlib widget #for interactive use\n",
    "from atoms_plotter.atoms_plotter import atoms_plotter\n",
    "\n",
    "atoms=ase.io.read('CONTCAR')\n",
    "plotter=atoms_plotter(atoms=atoms, constraints=True)"
   ]
  },
  {
   "cell_type": "markdown",
   "id": "5adef14a-eae0-494c-bc39-9a70b79290c6",
   "metadata": {},
   "source": [
    "### customization"
   ]
  },
  {
   "cell_type": "code",
   "execution_count": null,
   "id": "fa8ced40-481c-485e-9161-87044bbc898b",
   "metadata": {},
   "outputs": [],
   "source": [
    "plotter.scale=70\n",
    "plotter.bondlinewidth=2\n",
    "plotter.colorbonds=True\n",
    "plotter.constraints=False #draw constraints as x\n",
    "plotter.draw_outline=True\n",
    "plotter.repeat=[2,2]\n",
    "plotter.use_bondorders=True #double/triple bonds\n",
    "plotter.dimension='2D' #2D projection\n",
    "plotter.plot()\n",
    "\n"
   ]
  },
  {
   "cell_type": "markdown",
   "id": "1325108c-5152-4c6e-a555-e0c999207fb3",
   "metadata": {},
   "source": [
    "### plot lewis structures. obviously not with standard bond-lengths, but real."
   ]
  },
  {
   "cell_type": "code",
   "execution_count": null,
   "id": "fc80dcde-9f57-4519-82f3-90df1e5e2845",
   "metadata": {},
   "outputs": [],
   "source": [
    "#plot lewis-like structures. bonds as simple black lines, no atoms.\n",
    "plotter.dimension='2D'\n",
    "plotter.lewis=True\n",
    "plotter.scale=0\n",
    "plotter.atoms.rotate(90, 'z',rotate_cell=True) #rotate the cell to look at surface from side\n",
    "plotter.view=2 # 0 == x; 1 == y; 2 == z. indices of the coordinates\n",
    "plotter.plot()"
   ]
  },
  {
   "cell_type": "code",
   "execution_count": null,
   "id": "42b055ae-09b8-440a-9f2f-813ff1ecf7ed",
   "metadata": {},
   "outputs": [],
   "source": []
  }
 ],
 "metadata": {
  "kernelspec": {
   "display_name": "Python 3 (ipykernel)",
   "language": "python",
   "name": "python3"
  },
  "language_info": {
   "codemirror_mode": {
    "name": "ipython",
    "version": 3
   },
   "file_extension": ".py",
   "mimetype": "text/x-python",
   "name": "python",
   "nbconvert_exporter": "python",
   "pygments_lexer": "ipython3",
   "version": "3.11.5"
  }
 },
 "nbformat": 4,
 "nbformat_minor": 5
}
